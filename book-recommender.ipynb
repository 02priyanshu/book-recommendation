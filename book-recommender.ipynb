{
 "cells": [
  {
   "cell_type": "code",
   "execution_count": 2,
   "id": "21327595-3dcd-402c-8e55-b15f0fc47edc",
   "metadata": {},
   "outputs": [],
   "source": [
    "import numpy as np\n",
    "import pandas as pd\n",
    "import matplotlib.pyplot as plt\n",
    "import seaborn as sns"
   ]
  },
  {
   "cell_type": "code",
   "execution_count": 37,
   "id": "73a50584-fe65-40b2-8284-7407de2702dc",
   "metadata": {},
   "outputs": [
    {
     "name": "stderr",
     "output_type": "stream",
     "text": [
      "C:\\Users\\Priyanshul\\AppData\\Local\\Temp\\ipykernel_35084\\2738599579.py:1: DtypeWarning: Columns (3) have mixed types. Specify dtype option on import or set low_memory=False.\n",
      "  books=pd.read_csv(r\"C:\\Users\\Priyanshul\\OneDrive\\Desktop\\Recommender_system\\archive (2)\\Books.csv\")\n"
     ]
    }
   ],
   "source": [
    "books=pd.read_csv(r\"C:\\Users\\Priyanshul\\OneDrive\\Desktop\\Recommender_system\\archive (2)\\Books.csv\")"
   ]
  },
  {
   "cell_type": "code",
   "execution_count": 38,
   "id": "e51a8a0d-1ed7-420a-97c3-51fd991e2762",
   "metadata": {},
   "outputs": [
    {
     "data": {
      "text/html": [
       "<div>\n",
       "<style scoped>\n",
       "    .dataframe tbody tr th:only-of-type {\n",
       "        vertical-align: middle;\n",
       "    }\n",
       "\n",
       "    .dataframe tbody tr th {\n",
       "        vertical-align: top;\n",
       "    }\n",
       "\n",
       "    .dataframe thead th {\n",
       "        text-align: right;\n",
       "    }\n",
       "</style>\n",
       "<table border=\"1\" class=\"dataframe\">\n",
       "  <thead>\n",
       "    <tr style=\"text-align: right;\">\n",
       "      <th></th>\n",
       "      <th>ISBN</th>\n",
       "      <th>Book-Title</th>\n",
       "      <th>Book-Author</th>\n",
       "      <th>Year-Of-Publication</th>\n",
       "      <th>Publisher</th>\n",
       "      <th>Image-URL-S</th>\n",
       "      <th>Image-URL-M</th>\n",
       "      <th>Image-URL-L</th>\n",
       "    </tr>\n",
       "  </thead>\n",
       "  <tbody>\n",
       "    <tr>\n",
       "      <th>0</th>\n",
       "      <td>0195153448</td>\n",
       "      <td>Classical Mythology</td>\n",
       "      <td>Mark P. O. Morford</td>\n",
       "      <td>2002</td>\n",
       "      <td>Oxford University Press</td>\n",
       "      <td>http://images.amazon.com/images/P/0195153448.0...</td>\n",
       "      <td>http://images.amazon.com/images/P/0195153448.0...</td>\n",
       "      <td>http://images.amazon.com/images/P/0195153448.0...</td>\n",
       "    </tr>\n",
       "    <tr>\n",
       "      <th>1</th>\n",
       "      <td>0002005018</td>\n",
       "      <td>Clara Callan</td>\n",
       "      <td>Richard Bruce Wright</td>\n",
       "      <td>2001</td>\n",
       "      <td>HarperFlamingo Canada</td>\n",
       "      <td>http://images.amazon.com/images/P/0002005018.0...</td>\n",
       "      <td>http://images.amazon.com/images/P/0002005018.0...</td>\n",
       "      <td>http://images.amazon.com/images/P/0002005018.0...</td>\n",
       "    </tr>\n",
       "    <tr>\n",
       "      <th>2</th>\n",
       "      <td>0060973129</td>\n",
       "      <td>Decision in Normandy</td>\n",
       "      <td>Carlo D'Este</td>\n",
       "      <td>1991</td>\n",
       "      <td>HarperPerennial</td>\n",
       "      <td>http://images.amazon.com/images/P/0060973129.0...</td>\n",
       "      <td>http://images.amazon.com/images/P/0060973129.0...</td>\n",
       "      <td>http://images.amazon.com/images/P/0060973129.0...</td>\n",
       "    </tr>\n",
       "    <tr>\n",
       "      <th>3</th>\n",
       "      <td>0374157065</td>\n",
       "      <td>Flu: The Story of the Great Influenza Pandemic...</td>\n",
       "      <td>Gina Bari Kolata</td>\n",
       "      <td>1999</td>\n",
       "      <td>Farrar Straus Giroux</td>\n",
       "      <td>http://images.amazon.com/images/P/0374157065.0...</td>\n",
       "      <td>http://images.amazon.com/images/P/0374157065.0...</td>\n",
       "      <td>http://images.amazon.com/images/P/0374157065.0...</td>\n",
       "    </tr>\n",
       "    <tr>\n",
       "      <th>4</th>\n",
       "      <td>0393045218</td>\n",
       "      <td>The Mummies of Urumchi</td>\n",
       "      <td>E. J. W. Barber</td>\n",
       "      <td>1999</td>\n",
       "      <td>W. W. Norton &amp;amp; Company</td>\n",
       "      <td>http://images.amazon.com/images/P/0393045218.0...</td>\n",
       "      <td>http://images.amazon.com/images/P/0393045218.0...</td>\n",
       "      <td>http://images.amazon.com/images/P/0393045218.0...</td>\n",
       "    </tr>\n",
       "  </tbody>\n",
       "</table>\n",
       "</div>"
      ],
      "text/plain": [
       "         ISBN                                         Book-Title  \\\n",
       "0  0195153448                                Classical Mythology   \n",
       "1  0002005018                                       Clara Callan   \n",
       "2  0060973129                               Decision in Normandy   \n",
       "3  0374157065  Flu: The Story of the Great Influenza Pandemic...   \n",
       "4  0393045218                             The Mummies of Urumchi   \n",
       "\n",
       "            Book-Author Year-Of-Publication                   Publisher  \\\n",
       "0    Mark P. O. Morford                2002     Oxford University Press   \n",
       "1  Richard Bruce Wright                2001       HarperFlamingo Canada   \n",
       "2          Carlo D'Este                1991             HarperPerennial   \n",
       "3      Gina Bari Kolata                1999        Farrar Straus Giroux   \n",
       "4       E. J. W. Barber                1999  W. W. Norton &amp; Company   \n",
       "\n",
       "                                         Image-URL-S  \\\n",
       "0  http://images.amazon.com/images/P/0195153448.0...   \n",
       "1  http://images.amazon.com/images/P/0002005018.0...   \n",
       "2  http://images.amazon.com/images/P/0060973129.0...   \n",
       "3  http://images.amazon.com/images/P/0374157065.0...   \n",
       "4  http://images.amazon.com/images/P/0393045218.0...   \n",
       "\n",
       "                                         Image-URL-M  \\\n",
       "0  http://images.amazon.com/images/P/0195153448.0...   \n",
       "1  http://images.amazon.com/images/P/0002005018.0...   \n",
       "2  http://images.amazon.com/images/P/0060973129.0...   \n",
       "3  http://images.amazon.com/images/P/0374157065.0...   \n",
       "4  http://images.amazon.com/images/P/0393045218.0...   \n",
       "\n",
       "                                         Image-URL-L  \n",
       "0  http://images.amazon.com/images/P/0195153448.0...  \n",
       "1  http://images.amazon.com/images/P/0002005018.0...  \n",
       "2  http://images.amazon.com/images/P/0060973129.0...  \n",
       "3  http://images.amazon.com/images/P/0374157065.0...  \n",
       "4  http://images.amazon.com/images/P/0393045218.0...  "
      ]
     },
     "execution_count": 38,
     "metadata": {},
     "output_type": "execute_result"
    }
   ],
   "source": [
    "books.head()"
   ]
  },
  {
   "cell_type": "code",
   "execution_count": 39,
   "id": "62172394-eac4-4e3d-8456-d73e4a9b9cb8",
   "metadata": {},
   "outputs": [
    {
     "data": {
      "text/plain": [
       "(271360, 8)"
      ]
     },
     "execution_count": 39,
     "metadata": {},
     "output_type": "execute_result"
    }
   ],
   "source": [
    "books.shape"
   ]
  },
  {
   "cell_type": "code",
   "execution_count": 40,
   "id": "d4659f0a-af3b-4759-8fd8-9854c527a298",
   "metadata": {},
   "outputs": [
    {
     "data": {
      "text/plain": [
       "ISBN                   0\n",
       "Book-Title             0\n",
       "Book-Author            1\n",
       "Year-Of-Publication    0\n",
       "Publisher              2\n",
       "Image-URL-S            0\n",
       "Image-URL-M            0\n",
       "Image-URL-L            3\n",
       "dtype: int64"
      ]
     },
     "execution_count": 40,
     "metadata": {},
     "output_type": "execute_result"
    }
   ],
   "source": [
    "missing_values = books.isnull().sum()\n",
    "missing_values"
   ]
  },
  {
   "cell_type": "code",
   "execution_count": 41,
   "id": "0c817b3e-0b02-4570-ad3e-d66402bf8b4b",
   "metadata": {},
   "outputs": [
    {
     "data": {
      "text/plain": [
       "Index(['ISBN', 'Book-Title', 'Book-Author', 'Year-Of-Publication', 'Publisher',\n",
       "       'Image-URL-S', 'Image-URL-M', 'Image-URL-L'],\n",
       "      dtype='object')"
      ]
     },
     "execution_count": 41,
     "metadata": {},
     "output_type": "execute_result"
    }
   ],
   "source": [
    "books.columns"
   ]
  },
  {
   "cell_type": "code",
   "execution_count": 42,
   "id": "eab7c3df-36ee-4be9-8ee0-a3875f3d676e",
   "metadata": {},
   "outputs": [],
   "source": [
    "books=books[['ISBN', 'Book-Title', 'Book-Author', 'Year-Of-Publication', 'Publisher',\n",
    "       'Image-URL-M']]"
   ]
  },
  {
   "cell_type": "code",
   "execution_count": 43,
   "id": "1cd4e92f-4e47-4b43-85ef-b793f2286572",
   "metadata": {},
   "outputs": [
    {
     "data": {
      "text/html": [
       "<div>\n",
       "<style scoped>\n",
       "    .dataframe tbody tr th:only-of-type {\n",
       "        vertical-align: middle;\n",
       "    }\n",
       "\n",
       "    .dataframe tbody tr th {\n",
       "        vertical-align: top;\n",
       "    }\n",
       "\n",
       "    .dataframe thead th {\n",
       "        text-align: right;\n",
       "    }\n",
       "</style>\n",
       "<table border=\"1\" class=\"dataframe\">\n",
       "  <thead>\n",
       "    <tr style=\"text-align: right;\">\n",
       "      <th></th>\n",
       "      <th>ISBN</th>\n",
       "      <th>Book-Title</th>\n",
       "      <th>Book-Author</th>\n",
       "      <th>Year-Of-Publication</th>\n",
       "      <th>Publisher</th>\n",
       "      <th>Image-URL-M</th>\n",
       "    </tr>\n",
       "  </thead>\n",
       "  <tbody>\n",
       "    <tr>\n",
       "      <th>0</th>\n",
       "      <td>0195153448</td>\n",
       "      <td>Classical Mythology</td>\n",
       "      <td>Mark P. O. Morford</td>\n",
       "      <td>2002</td>\n",
       "      <td>Oxford University Press</td>\n",
       "      <td>http://images.amazon.com/images/P/0195153448.0...</td>\n",
       "    </tr>\n",
       "    <tr>\n",
       "      <th>1</th>\n",
       "      <td>0002005018</td>\n",
       "      <td>Clara Callan</td>\n",
       "      <td>Richard Bruce Wright</td>\n",
       "      <td>2001</td>\n",
       "      <td>HarperFlamingo Canada</td>\n",
       "      <td>http://images.amazon.com/images/P/0002005018.0...</td>\n",
       "    </tr>\n",
       "    <tr>\n",
       "      <th>2</th>\n",
       "      <td>0060973129</td>\n",
       "      <td>Decision in Normandy</td>\n",
       "      <td>Carlo D'Este</td>\n",
       "      <td>1991</td>\n",
       "      <td>HarperPerennial</td>\n",
       "      <td>http://images.amazon.com/images/P/0060973129.0...</td>\n",
       "    </tr>\n",
       "    <tr>\n",
       "      <th>3</th>\n",
       "      <td>0374157065</td>\n",
       "      <td>Flu: The Story of the Great Influenza Pandemic...</td>\n",
       "      <td>Gina Bari Kolata</td>\n",
       "      <td>1999</td>\n",
       "      <td>Farrar Straus Giroux</td>\n",
       "      <td>http://images.amazon.com/images/P/0374157065.0...</td>\n",
       "    </tr>\n",
       "    <tr>\n",
       "      <th>4</th>\n",
       "      <td>0393045218</td>\n",
       "      <td>The Mummies of Urumchi</td>\n",
       "      <td>E. J. W. Barber</td>\n",
       "      <td>1999</td>\n",
       "      <td>W. W. Norton &amp;amp; Company</td>\n",
       "      <td>http://images.amazon.com/images/P/0393045218.0...</td>\n",
       "    </tr>\n",
       "  </tbody>\n",
       "</table>\n",
       "</div>"
      ],
      "text/plain": [
       "         ISBN                                         Book-Title  \\\n",
       "0  0195153448                                Classical Mythology   \n",
       "1  0002005018                                       Clara Callan   \n",
       "2  0060973129                               Decision in Normandy   \n",
       "3  0374157065  Flu: The Story of the Great Influenza Pandemic...   \n",
       "4  0393045218                             The Mummies of Urumchi   \n",
       "\n",
       "            Book-Author Year-Of-Publication                   Publisher  \\\n",
       "0    Mark P. O. Morford                2002     Oxford University Press   \n",
       "1  Richard Bruce Wright                2001       HarperFlamingo Canada   \n",
       "2          Carlo D'Este                1991             HarperPerennial   \n",
       "3      Gina Bari Kolata                1999        Farrar Straus Giroux   \n",
       "4       E. J. W. Barber                1999  W. W. Norton &amp; Company   \n",
       "\n",
       "                                         Image-URL-M  \n",
       "0  http://images.amazon.com/images/P/0195153448.0...  \n",
       "1  http://images.amazon.com/images/P/0002005018.0...  \n",
       "2  http://images.amazon.com/images/P/0060973129.0...  \n",
       "3  http://images.amazon.com/images/P/0374157065.0...  \n",
       "4  http://images.amazon.com/images/P/0393045218.0...  "
      ]
     },
     "execution_count": 43,
     "metadata": {},
     "output_type": "execute_result"
    }
   ],
   "source": [
    "books.head()"
   ]
  },
  {
   "cell_type": "code",
   "execution_count": 44,
   "id": "49b893e2-2935-44ef-ae9b-ce7a65a09d7d",
   "metadata": {},
   "outputs": [],
   "source": [
    "books.rename(columns={\n",
    "    \"Book-Title\": \"title\",\n",
    "    'Book-Author': \"author\", \n",
    "    'Year-Of-Publication': \"year\", \n",
    "    'Publisher': \"publisher\",\n",
    "    'Image-URL-M': \"img_url\"},inplace=True)"
   ]
  },
  {
   "cell_type": "code",
   "execution_count": 45,
   "id": "33e037bd-9bc9-4d43-b7e2-5b7d53e22b7b",
   "metadata": {},
   "outputs": [
    {
     "data": {
      "text/html": [
       "<div>\n",
       "<style scoped>\n",
       "    .dataframe tbody tr th:only-of-type {\n",
       "        vertical-align: middle;\n",
       "    }\n",
       "\n",
       "    .dataframe tbody tr th {\n",
       "        vertical-align: top;\n",
       "    }\n",
       "\n",
       "    .dataframe thead th {\n",
       "        text-align: right;\n",
       "    }\n",
       "</style>\n",
       "<table border=\"1\" class=\"dataframe\">\n",
       "  <thead>\n",
       "    <tr style=\"text-align: right;\">\n",
       "      <th></th>\n",
       "      <th>ISBN</th>\n",
       "      <th>title</th>\n",
       "      <th>author</th>\n",
       "      <th>year</th>\n",
       "      <th>publisher</th>\n",
       "      <th>img_url</th>\n",
       "    </tr>\n",
       "  </thead>\n",
       "  <tbody>\n",
       "    <tr>\n",
       "      <th>0</th>\n",
       "      <td>0195153448</td>\n",
       "      <td>Classical Mythology</td>\n",
       "      <td>Mark P. O. Morford</td>\n",
       "      <td>2002</td>\n",
       "      <td>Oxford University Press</td>\n",
       "      <td>http://images.amazon.com/images/P/0195153448.0...</td>\n",
       "    </tr>\n",
       "    <tr>\n",
       "      <th>1</th>\n",
       "      <td>0002005018</td>\n",
       "      <td>Clara Callan</td>\n",
       "      <td>Richard Bruce Wright</td>\n",
       "      <td>2001</td>\n",
       "      <td>HarperFlamingo Canada</td>\n",
       "      <td>http://images.amazon.com/images/P/0002005018.0...</td>\n",
       "    </tr>\n",
       "    <tr>\n",
       "      <th>2</th>\n",
       "      <td>0060973129</td>\n",
       "      <td>Decision in Normandy</td>\n",
       "      <td>Carlo D'Este</td>\n",
       "      <td>1991</td>\n",
       "      <td>HarperPerennial</td>\n",
       "      <td>http://images.amazon.com/images/P/0060973129.0...</td>\n",
       "    </tr>\n",
       "    <tr>\n",
       "      <th>3</th>\n",
       "      <td>0374157065</td>\n",
       "      <td>Flu: The Story of the Great Influenza Pandemic...</td>\n",
       "      <td>Gina Bari Kolata</td>\n",
       "      <td>1999</td>\n",
       "      <td>Farrar Straus Giroux</td>\n",
       "      <td>http://images.amazon.com/images/P/0374157065.0...</td>\n",
       "    </tr>\n",
       "    <tr>\n",
       "      <th>4</th>\n",
       "      <td>0393045218</td>\n",
       "      <td>The Mummies of Urumchi</td>\n",
       "      <td>E. J. W. Barber</td>\n",
       "      <td>1999</td>\n",
       "      <td>W. W. Norton &amp;amp; Company</td>\n",
       "      <td>http://images.amazon.com/images/P/0393045218.0...</td>\n",
       "    </tr>\n",
       "  </tbody>\n",
       "</table>\n",
       "</div>"
      ],
      "text/plain": [
       "         ISBN                                              title  \\\n",
       "0  0195153448                                Classical Mythology   \n",
       "1  0002005018                                       Clara Callan   \n",
       "2  0060973129                               Decision in Normandy   \n",
       "3  0374157065  Flu: The Story of the Great Influenza Pandemic...   \n",
       "4  0393045218                             The Mummies of Urumchi   \n",
       "\n",
       "                 author  year                   publisher  \\\n",
       "0    Mark P. O. Morford  2002     Oxford University Press   \n",
       "1  Richard Bruce Wright  2001       HarperFlamingo Canada   \n",
       "2          Carlo D'Este  1991             HarperPerennial   \n",
       "3      Gina Bari Kolata  1999        Farrar Straus Giroux   \n",
       "4       E. J. W. Barber  1999  W. W. Norton &amp; Company   \n",
       "\n",
       "                                             img_url  \n",
       "0  http://images.amazon.com/images/P/0195153448.0...  \n",
       "1  http://images.amazon.com/images/P/0002005018.0...  \n",
       "2  http://images.amazon.com/images/P/0060973129.0...  \n",
       "3  http://images.amazon.com/images/P/0374157065.0...  \n",
       "4  http://images.amazon.com/images/P/0393045218.0...  "
      ]
     },
     "execution_count": 45,
     "metadata": {},
     "output_type": "execute_result"
    }
   ],
   "source": [
    "books.head()"
   ]
  },
  {
   "cell_type": "code",
   "execution_count": 46,
   "id": "de82599d-c4e6-4591-93ed-d4811c6c8c80",
   "metadata": {},
   "outputs": [],
   "source": [
    "users=pd.read_csv(r\"C:\\Users\\Priyanshul\\OneDrive\\Desktop\\Recommender_system\\archive (2)\\Users.csv\")"
   ]
  },
  {
   "cell_type": "code",
   "execution_count": 47,
   "id": "825b9fa6-b8b1-4380-bd81-b7f58f999e19",
   "metadata": {},
   "outputs": [
    {
     "data": {
      "text/html": [
       "<div>\n",
       "<style scoped>\n",
       "    .dataframe tbody tr th:only-of-type {\n",
       "        vertical-align: middle;\n",
       "    }\n",
       "\n",
       "    .dataframe tbody tr th {\n",
       "        vertical-align: top;\n",
       "    }\n",
       "\n",
       "    .dataframe thead th {\n",
       "        text-align: right;\n",
       "    }\n",
       "</style>\n",
       "<table border=\"1\" class=\"dataframe\">\n",
       "  <thead>\n",
       "    <tr style=\"text-align: right;\">\n",
       "      <th></th>\n",
       "      <th>User-ID</th>\n",
       "      <th>Location</th>\n",
       "      <th>Age</th>\n",
       "    </tr>\n",
       "  </thead>\n",
       "  <tbody>\n",
       "    <tr>\n",
       "      <th>0</th>\n",
       "      <td>1</td>\n",
       "      <td>nyc, new york, usa</td>\n",
       "      <td>NaN</td>\n",
       "    </tr>\n",
       "    <tr>\n",
       "      <th>1</th>\n",
       "      <td>2</td>\n",
       "      <td>stockton, california, usa</td>\n",
       "      <td>18.0</td>\n",
       "    </tr>\n",
       "  </tbody>\n",
       "</table>\n",
       "</div>"
      ],
      "text/plain": [
       "   User-ID                   Location   Age\n",
       "0        1         nyc, new york, usa   NaN\n",
       "1        2  stockton, california, usa  18.0"
      ]
     },
     "execution_count": 47,
     "metadata": {},
     "output_type": "execute_result"
    }
   ],
   "source": [
    "users.head(2)"
   ]
  },
  {
   "cell_type": "code",
   "execution_count": 48,
   "id": "f592b70a-572f-4434-b5cc-1bc1466eac85",
   "metadata": {},
   "outputs": [
    {
     "data": {
      "text/plain": [
       "(278858, 3)"
      ]
     },
     "execution_count": 48,
     "metadata": {},
     "output_type": "execute_result"
    }
   ],
   "source": [
    "users.shape"
   ]
  },
  {
   "cell_type": "code",
   "execution_count": 49,
   "id": "bb847c1b-fbb4-4722-9175-623d1d4fd4df",
   "metadata": {},
   "outputs": [],
   "source": [
    "ratings=pd.read_csv(r\"C:\\Users\\Priyanshul\\OneDrive\\Desktop\\Recommender_system\\archive (2)\\Ratings.csv\")"
   ]
  },
  {
   "cell_type": "code",
   "execution_count": 50,
   "id": "7c0d240a-6fd0-4c0d-986e-8297361030ba",
   "metadata": {},
   "outputs": [
    {
     "data": {
      "text/html": [
       "<div>\n",
       "<style scoped>\n",
       "    .dataframe tbody tr th:only-of-type {\n",
       "        vertical-align: middle;\n",
       "    }\n",
       "\n",
       "    .dataframe tbody tr th {\n",
       "        vertical-align: top;\n",
       "    }\n",
       "\n",
       "    .dataframe thead th {\n",
       "        text-align: right;\n",
       "    }\n",
       "</style>\n",
       "<table border=\"1\" class=\"dataframe\">\n",
       "  <thead>\n",
       "    <tr style=\"text-align: right;\">\n",
       "      <th></th>\n",
       "      <th>User-ID</th>\n",
       "      <th>ISBN</th>\n",
       "      <th>Book-Rating</th>\n",
       "    </tr>\n",
       "  </thead>\n",
       "  <tbody>\n",
       "    <tr>\n",
       "      <th>0</th>\n",
       "      <td>276725</td>\n",
       "      <td>034545104X</td>\n",
       "      <td>0</td>\n",
       "    </tr>\n",
       "    <tr>\n",
       "      <th>1</th>\n",
       "      <td>276726</td>\n",
       "      <td>0155061224</td>\n",
       "      <td>5</td>\n",
       "    </tr>\n",
       "  </tbody>\n",
       "</table>\n",
       "</div>"
      ],
      "text/plain": [
       "   User-ID        ISBN  Book-Rating\n",
       "0   276725  034545104X            0\n",
       "1   276726  0155061224            5"
      ]
     },
     "execution_count": 50,
     "metadata": {},
     "output_type": "execute_result"
    }
   ],
   "source": [
    "ratings.head(2)"
   ]
  },
  {
   "cell_type": "code",
   "execution_count": 51,
   "id": "4d86cdbf-e1ea-48db-96b0-0a59fcf5a5c1",
   "metadata": {},
   "outputs": [
    {
     "data": {
      "text/plain": [
       "(1149780, 3)"
      ]
     },
     "execution_count": 51,
     "metadata": {},
     "output_type": "execute_result"
    }
   ],
   "source": [
    "ratings.shape"
   ]
  },
  {
   "cell_type": "code",
   "execution_count": 52,
   "id": "412bf405-bbe0-4915-bf69-ce68a21f7b06",
   "metadata": {},
   "outputs": [],
   "source": [
    "ratings.rename(columns={\n",
    "    \"User-ID\": \"user-id\",\n",
    "    \"Book-Rating\": \"rating\"\n",
    "   },inplace=True)"
   ]
  },
  {
   "cell_type": "code",
   "execution_count": 53,
   "id": "9772ba9b-3211-4b12-b12e-2ce1d27ef394",
   "metadata": {},
   "outputs": [
    {
     "data": {
      "text/plain": [
       "11676     13602\n",
       "198711     7550\n",
       "153662     6109\n",
       "98391      5891\n",
       "35859      5850\n",
       "          ...  \n",
       "116180        1\n",
       "116166        1\n",
       "116154        1\n",
       "116137        1\n",
       "276723        1\n",
       "Name: user-id, Length: 105283, dtype: int64"
      ]
     },
     "execution_count": 53,
     "metadata": {},
     "output_type": "execute_result"
    }
   ],
   "source": [
    "ratings[\"user-id\"].value_counts()"
   ]
  },
  {
   "cell_type": "code",
   "execution_count": 54,
   "id": "5db09440-aa72-4d7c-8aec-6e96508a55d1",
   "metadata": {},
   "outputs": [
    {
     "data": {
      "text/plain": [
       "(105283,)"
      ]
     },
     "execution_count": 54,
     "metadata": {},
     "output_type": "execute_result"
    }
   ],
   "source": [
    "ratings[\"user-id\"].unique().shape"
   ]
  },
  {
   "cell_type": "code",
   "execution_count": 55,
   "id": "5fde54e1-832c-401b-b6d9-17e908deb961",
   "metadata": {},
   "outputs": [],
   "source": [
    "x=ratings[\"user-id\"].value_counts() > 200"
   ]
  },
  {
   "cell_type": "code",
   "execution_count": 56,
   "id": "1ee6708d-aa58-44d8-8231-5ce703166796",
   "metadata": {},
   "outputs": [
    {
     "data": {
      "text/plain": [
       "(899,)"
      ]
     },
     "execution_count": 56,
     "metadata": {},
     "output_type": "execute_result"
    }
   ],
   "source": [
    "x[x].shape"
   ]
  },
  {
   "cell_type": "code",
   "execution_count": 57,
   "id": "58de7158-6bca-445f-9cef-8bc22e6a41c3",
   "metadata": {},
   "outputs": [],
   "source": [
    "y=x[x].index"
   ]
  },
  {
   "cell_type": "code",
   "execution_count": 58,
   "id": "a10b526e-e29a-4ac5-bdd3-e8bf6e250df0",
   "metadata": {},
   "outputs": [],
   "source": [
    "ratings = ratings[ratings['user-id'].isin(y)]"
   ]
  },
  {
   "cell_type": "code",
   "execution_count": 59,
   "id": "c90c1c8d-fac9-4740-b048-f97b1186e33a",
   "metadata": {},
   "outputs": [
    {
     "data": {
      "text/html": [
       "<div>\n",
       "<style scoped>\n",
       "    .dataframe tbody tr th:only-of-type {\n",
       "        vertical-align: middle;\n",
       "    }\n",
       "\n",
       "    .dataframe tbody tr th {\n",
       "        vertical-align: top;\n",
       "    }\n",
       "\n",
       "    .dataframe thead th {\n",
       "        text-align: right;\n",
       "    }\n",
       "</style>\n",
       "<table border=\"1\" class=\"dataframe\">\n",
       "  <thead>\n",
       "    <tr style=\"text-align: right;\">\n",
       "      <th></th>\n",
       "      <th>user-id</th>\n",
       "      <th>ISBN</th>\n",
       "      <th>rating</th>\n",
       "    </tr>\n",
       "  </thead>\n",
       "  <tbody>\n",
       "    <tr>\n",
       "      <th>1456</th>\n",
       "      <td>277427</td>\n",
       "      <td>002542730X</td>\n",
       "      <td>10</td>\n",
       "    </tr>\n",
       "    <tr>\n",
       "      <th>1457</th>\n",
       "      <td>277427</td>\n",
       "      <td>0026217457</td>\n",
       "      <td>0</td>\n",
       "    </tr>\n",
       "    <tr>\n",
       "      <th>1458</th>\n",
       "      <td>277427</td>\n",
       "      <td>003008685X</td>\n",
       "      <td>8</td>\n",
       "    </tr>\n",
       "    <tr>\n",
       "      <th>1459</th>\n",
       "      <td>277427</td>\n",
       "      <td>0030615321</td>\n",
       "      <td>0</td>\n",
       "    </tr>\n",
       "    <tr>\n",
       "      <th>1460</th>\n",
       "      <td>277427</td>\n",
       "      <td>0060002050</td>\n",
       "      <td>0</td>\n",
       "    </tr>\n",
       "  </tbody>\n",
       "</table>\n",
       "</div>"
      ],
      "text/plain": [
       "      user-id        ISBN  rating\n",
       "1456   277427  002542730X      10\n",
       "1457   277427  0026217457       0\n",
       "1458   277427  003008685X       8\n",
       "1459   277427  0030615321       0\n",
       "1460   277427  0060002050       0"
      ]
     },
     "execution_count": 59,
     "metadata": {},
     "output_type": "execute_result"
    }
   ],
   "source": [
    "ratings.head()"
   ]
  },
  {
   "cell_type": "code",
   "execution_count": 60,
   "id": "8ab3a9d8-b004-427d-8321-6383700b7b2d",
   "metadata": {},
   "outputs": [
    {
     "data": {
      "text/plain": [
       "(526356, 3)"
      ]
     },
     "execution_count": 60,
     "metadata": {},
     "output_type": "execute_result"
    }
   ],
   "source": [
    "ratings.shape"
   ]
  },
  {
   "cell_type": "code",
   "execution_count": 61,
   "id": "f2f92cb2-1025-48c8-9cda-399e78c53d59",
   "metadata": {},
   "outputs": [],
   "source": [
    "ratings_with_books = ratings.merge(books,on='ISBN')"
   ]
  },
  {
   "cell_type": "code",
   "execution_count": 62,
   "id": "0cacad17-0f19-4adc-b397-7a842cf47161",
   "metadata": {},
   "outputs": [
    {
     "data": {
      "text/html": [
       "<div>\n",
       "<style scoped>\n",
       "    .dataframe tbody tr th:only-of-type {\n",
       "        vertical-align: middle;\n",
       "    }\n",
       "\n",
       "    .dataframe tbody tr th {\n",
       "        vertical-align: top;\n",
       "    }\n",
       "\n",
       "    .dataframe thead th {\n",
       "        text-align: right;\n",
       "    }\n",
       "</style>\n",
       "<table border=\"1\" class=\"dataframe\">\n",
       "  <thead>\n",
       "    <tr style=\"text-align: right;\">\n",
       "      <th></th>\n",
       "      <th>user-id</th>\n",
       "      <th>ISBN</th>\n",
       "      <th>rating</th>\n",
       "      <th>title</th>\n",
       "      <th>author</th>\n",
       "      <th>year</th>\n",
       "      <th>publisher</th>\n",
       "      <th>img_url</th>\n",
       "    </tr>\n",
       "  </thead>\n",
       "  <tbody>\n",
       "    <tr>\n",
       "      <th>0</th>\n",
       "      <td>277427</td>\n",
       "      <td>002542730X</td>\n",
       "      <td>10</td>\n",
       "      <td>Politically Correct Bedtime Stories: Modern Ta...</td>\n",
       "      <td>James Finn Garner</td>\n",
       "      <td>1994</td>\n",
       "      <td>John Wiley &amp;amp; Sons Inc</td>\n",
       "      <td>http://images.amazon.com/images/P/002542730X.0...</td>\n",
       "    </tr>\n",
       "    <tr>\n",
       "      <th>1</th>\n",
       "      <td>3363</td>\n",
       "      <td>002542730X</td>\n",
       "      <td>0</td>\n",
       "      <td>Politically Correct Bedtime Stories: Modern Ta...</td>\n",
       "      <td>James Finn Garner</td>\n",
       "      <td>1994</td>\n",
       "      <td>John Wiley &amp;amp; Sons Inc</td>\n",
       "      <td>http://images.amazon.com/images/P/002542730X.0...</td>\n",
       "    </tr>\n",
       "    <tr>\n",
       "      <th>2</th>\n",
       "      <td>11676</td>\n",
       "      <td>002542730X</td>\n",
       "      <td>6</td>\n",
       "      <td>Politically Correct Bedtime Stories: Modern Ta...</td>\n",
       "      <td>James Finn Garner</td>\n",
       "      <td>1994</td>\n",
       "      <td>John Wiley &amp;amp; Sons Inc</td>\n",
       "      <td>http://images.amazon.com/images/P/002542730X.0...</td>\n",
       "    </tr>\n",
       "    <tr>\n",
       "      <th>3</th>\n",
       "      <td>12538</td>\n",
       "      <td>002542730X</td>\n",
       "      <td>10</td>\n",
       "      <td>Politically Correct Bedtime Stories: Modern Ta...</td>\n",
       "      <td>James Finn Garner</td>\n",
       "      <td>1994</td>\n",
       "      <td>John Wiley &amp;amp; Sons Inc</td>\n",
       "      <td>http://images.amazon.com/images/P/002542730X.0...</td>\n",
       "    </tr>\n",
       "    <tr>\n",
       "      <th>4</th>\n",
       "      <td>13552</td>\n",
       "      <td>002542730X</td>\n",
       "      <td>0</td>\n",
       "      <td>Politically Correct Bedtime Stories: Modern Ta...</td>\n",
       "      <td>James Finn Garner</td>\n",
       "      <td>1994</td>\n",
       "      <td>John Wiley &amp;amp; Sons Inc</td>\n",
       "      <td>http://images.amazon.com/images/P/002542730X.0...</td>\n",
       "    </tr>\n",
       "  </tbody>\n",
       "</table>\n",
       "</div>"
      ],
      "text/plain": [
       "   user-id        ISBN  rating  \\\n",
       "0   277427  002542730X      10   \n",
       "1     3363  002542730X       0   \n",
       "2    11676  002542730X       6   \n",
       "3    12538  002542730X      10   \n",
       "4    13552  002542730X       0   \n",
       "\n",
       "                                               title             author  year  \\\n",
       "0  Politically Correct Bedtime Stories: Modern Ta...  James Finn Garner  1994   \n",
       "1  Politically Correct Bedtime Stories: Modern Ta...  James Finn Garner  1994   \n",
       "2  Politically Correct Bedtime Stories: Modern Ta...  James Finn Garner  1994   \n",
       "3  Politically Correct Bedtime Stories: Modern Ta...  James Finn Garner  1994   \n",
       "4  Politically Correct Bedtime Stories: Modern Ta...  James Finn Garner  1994   \n",
       "\n",
       "                   publisher  \\\n",
       "0  John Wiley &amp; Sons Inc   \n",
       "1  John Wiley &amp; Sons Inc   \n",
       "2  John Wiley &amp; Sons Inc   \n",
       "3  John Wiley &amp; Sons Inc   \n",
       "4  John Wiley &amp; Sons Inc   \n",
       "\n",
       "                                             img_url  \n",
       "0  http://images.amazon.com/images/P/002542730X.0...  \n",
       "1  http://images.amazon.com/images/P/002542730X.0...  \n",
       "2  http://images.amazon.com/images/P/002542730X.0...  \n",
       "3  http://images.amazon.com/images/P/002542730X.0...  \n",
       "4  http://images.amazon.com/images/P/002542730X.0...  "
      ]
     },
     "execution_count": 62,
     "metadata": {},
     "output_type": "execute_result"
    }
   ],
   "source": [
    "ratings_with_books.head()"
   ]
  },
  {
   "cell_type": "code",
   "execution_count": 63,
   "id": "214aee38-8c92-498a-8250-0569fdad9ff5",
   "metadata": {},
   "outputs": [
    {
     "data": {
      "text/plain": [
       "(487671, 8)"
      ]
     },
     "execution_count": 63,
     "metadata": {},
     "output_type": "execute_result"
    }
   ],
   "source": [
    "ratings_with_books.shape"
   ]
  },
  {
   "cell_type": "code",
   "execution_count": 64,
   "id": "f0ff2a53-3d0a-43ab-8ffd-30913574335c",
   "metadata": {},
   "outputs": [],
   "source": [
    "num_rating=ratings_with_books.groupby('title')['rating'].count().reset_index()"
   ]
  },
  {
   "cell_type": "code",
   "execution_count": 65,
   "id": "0ea986ef-0fa1-49f4-bc0d-dd04202b3dc2",
   "metadata": {},
   "outputs": [
    {
     "data": {
      "text/html": [
       "<div>\n",
       "<style scoped>\n",
       "    .dataframe tbody tr th:only-of-type {\n",
       "        vertical-align: middle;\n",
       "    }\n",
       "\n",
       "    .dataframe tbody tr th {\n",
       "        vertical-align: top;\n",
       "    }\n",
       "\n",
       "    .dataframe thead th {\n",
       "        text-align: right;\n",
       "    }\n",
       "</style>\n",
       "<table border=\"1\" class=\"dataframe\">\n",
       "  <thead>\n",
       "    <tr style=\"text-align: right;\">\n",
       "      <th></th>\n",
       "      <th>title</th>\n",
       "      <th>rating</th>\n",
       "    </tr>\n",
       "  </thead>\n",
       "  <tbody>\n",
       "    <tr>\n",
       "      <th>0</th>\n",
       "      <td>A Light in the Storm: The Civil War Diary of ...</td>\n",
       "      <td>2</td>\n",
       "    </tr>\n",
       "    <tr>\n",
       "      <th>1</th>\n",
       "      <td>Always Have Popsicles</td>\n",
       "      <td>1</td>\n",
       "    </tr>\n",
       "    <tr>\n",
       "      <th>2</th>\n",
       "      <td>Apple Magic (The Collector's series)</td>\n",
       "      <td>1</td>\n",
       "    </tr>\n",
       "    <tr>\n",
       "      <th>3</th>\n",
       "      <td>Beyond IBM: Leadership Marketing and Finance ...</td>\n",
       "      <td>1</td>\n",
       "    </tr>\n",
       "    <tr>\n",
       "      <th>4</th>\n",
       "      <td>Clifford Visita El Hospital (Clifford El Gran...</td>\n",
       "      <td>1</td>\n",
       "    </tr>\n",
       "  </tbody>\n",
       "</table>\n",
       "</div>"
      ],
      "text/plain": [
       "                                               title  rating\n",
       "0   A Light in the Storm: The Civil War Diary of ...       2\n",
       "1                              Always Have Popsicles       1\n",
       "2               Apple Magic (The Collector's series)       1\n",
       "3   Beyond IBM: Leadership Marketing and Finance ...       1\n",
       "4   Clifford Visita El Hospital (Clifford El Gran...       1"
      ]
     },
     "execution_count": 65,
     "metadata": {},
     "output_type": "execute_result"
    }
   ],
   "source": [
    "num_rating.head()"
   ]
  },
  {
   "cell_type": "code",
   "execution_count": 67,
   "id": "c10c595c-65bf-4153-8af8-a1433e1f5a28",
   "metadata": {},
   "outputs": [],
   "source": [
    "num_rating.rename(columns={\"rating\":\"num_of_rating\"},inplace=True)"
   ]
  },
  {
   "cell_type": "code",
   "execution_count": 68,
   "id": "14af2e70-9dc2-4910-9c11-0e9c730356c1",
   "metadata": {},
   "outputs": [
    {
     "data": {
      "text/html": [
       "<div>\n",
       "<style scoped>\n",
       "    .dataframe tbody tr th:only-of-type {\n",
       "        vertical-align: middle;\n",
       "    }\n",
       "\n",
       "    .dataframe tbody tr th {\n",
       "        vertical-align: top;\n",
       "    }\n",
       "\n",
       "    .dataframe thead th {\n",
       "        text-align: right;\n",
       "    }\n",
       "</style>\n",
       "<table border=\"1\" class=\"dataframe\">\n",
       "  <thead>\n",
       "    <tr style=\"text-align: right;\">\n",
       "      <th></th>\n",
       "      <th>title</th>\n",
       "      <th>num_of_rating</th>\n",
       "    </tr>\n",
       "  </thead>\n",
       "  <tbody>\n",
       "    <tr>\n",
       "      <th>0</th>\n",
       "      <td>A Light in the Storm: The Civil War Diary of ...</td>\n",
       "      <td>2</td>\n",
       "    </tr>\n",
       "    <tr>\n",
       "      <th>1</th>\n",
       "      <td>Always Have Popsicles</td>\n",
       "      <td>1</td>\n",
       "    </tr>\n",
       "    <tr>\n",
       "      <th>2</th>\n",
       "      <td>Apple Magic (The Collector's series)</td>\n",
       "      <td>1</td>\n",
       "    </tr>\n",
       "    <tr>\n",
       "      <th>3</th>\n",
       "      <td>Beyond IBM: Leadership Marketing and Finance ...</td>\n",
       "      <td>1</td>\n",
       "    </tr>\n",
       "    <tr>\n",
       "      <th>4</th>\n",
       "      <td>Clifford Visita El Hospital (Clifford El Gran...</td>\n",
       "      <td>1</td>\n",
       "    </tr>\n",
       "  </tbody>\n",
       "</table>\n",
       "</div>"
      ],
      "text/plain": [
       "                                               title  num_of_rating\n",
       "0   A Light in the Storm: The Civil War Diary of ...              2\n",
       "1                              Always Have Popsicles              1\n",
       "2               Apple Magic (The Collector's series)              1\n",
       "3   Beyond IBM: Leadership Marketing and Finance ...              1\n",
       "4   Clifford Visita El Hospital (Clifford El Gran...              1"
      ]
     },
     "execution_count": 68,
     "metadata": {},
     "output_type": "execute_result"
    }
   ],
   "source": [
    "num_rating.head()"
   ]
  },
  {
   "cell_type": "code",
   "execution_count": 70,
   "id": "53a1bd62-f2f9-41ee-ac8d-39a33feb3d5f",
   "metadata": {},
   "outputs": [],
   "source": [
    "final_rating=ratings_with_books.merge(num_rating,on='title')"
   ]
  },
  {
   "cell_type": "code",
   "execution_count": 71,
   "id": "ad8e1b65-814d-41a4-a679-d875afa25c10",
   "metadata": {},
   "outputs": [
    {
     "data": {
      "text/html": [
       "<div>\n",
       "<style scoped>\n",
       "    .dataframe tbody tr th:only-of-type {\n",
       "        vertical-align: middle;\n",
       "    }\n",
       "\n",
       "    .dataframe tbody tr th {\n",
       "        vertical-align: top;\n",
       "    }\n",
       "\n",
       "    .dataframe thead th {\n",
       "        text-align: right;\n",
       "    }\n",
       "</style>\n",
       "<table border=\"1\" class=\"dataframe\">\n",
       "  <thead>\n",
       "    <tr style=\"text-align: right;\">\n",
       "      <th></th>\n",
       "      <th>user-id</th>\n",
       "      <th>ISBN</th>\n",
       "      <th>rating</th>\n",
       "      <th>title</th>\n",
       "      <th>author</th>\n",
       "      <th>year</th>\n",
       "      <th>publisher</th>\n",
       "      <th>img_url</th>\n",
       "      <th>num_of_rating</th>\n",
       "    </tr>\n",
       "  </thead>\n",
       "  <tbody>\n",
       "    <tr>\n",
       "      <th>0</th>\n",
       "      <td>277427</td>\n",
       "      <td>002542730X</td>\n",
       "      <td>10</td>\n",
       "      <td>Politically Correct Bedtime Stories: Modern Ta...</td>\n",
       "      <td>James Finn Garner</td>\n",
       "      <td>1994</td>\n",
       "      <td>John Wiley &amp;amp; Sons Inc</td>\n",
       "      <td>http://images.amazon.com/images/P/002542730X.0...</td>\n",
       "      <td>82</td>\n",
       "    </tr>\n",
       "    <tr>\n",
       "      <th>1</th>\n",
       "      <td>3363</td>\n",
       "      <td>002542730X</td>\n",
       "      <td>0</td>\n",
       "      <td>Politically Correct Bedtime Stories: Modern Ta...</td>\n",
       "      <td>James Finn Garner</td>\n",
       "      <td>1994</td>\n",
       "      <td>John Wiley &amp;amp; Sons Inc</td>\n",
       "      <td>http://images.amazon.com/images/P/002542730X.0...</td>\n",
       "      <td>82</td>\n",
       "    </tr>\n",
       "    <tr>\n",
       "      <th>2</th>\n",
       "      <td>11676</td>\n",
       "      <td>002542730X</td>\n",
       "      <td>6</td>\n",
       "      <td>Politically Correct Bedtime Stories: Modern Ta...</td>\n",
       "      <td>James Finn Garner</td>\n",
       "      <td>1994</td>\n",
       "      <td>John Wiley &amp;amp; Sons Inc</td>\n",
       "      <td>http://images.amazon.com/images/P/002542730X.0...</td>\n",
       "      <td>82</td>\n",
       "    </tr>\n",
       "    <tr>\n",
       "      <th>3</th>\n",
       "      <td>12538</td>\n",
       "      <td>002542730X</td>\n",
       "      <td>10</td>\n",
       "      <td>Politically Correct Bedtime Stories: Modern Ta...</td>\n",
       "      <td>James Finn Garner</td>\n",
       "      <td>1994</td>\n",
       "      <td>John Wiley &amp;amp; Sons Inc</td>\n",
       "      <td>http://images.amazon.com/images/P/002542730X.0...</td>\n",
       "      <td>82</td>\n",
       "    </tr>\n",
       "    <tr>\n",
       "      <th>4</th>\n",
       "      <td>13552</td>\n",
       "      <td>002542730X</td>\n",
       "      <td>0</td>\n",
       "      <td>Politically Correct Bedtime Stories: Modern Ta...</td>\n",
       "      <td>James Finn Garner</td>\n",
       "      <td>1994</td>\n",
       "      <td>John Wiley &amp;amp; Sons Inc</td>\n",
       "      <td>http://images.amazon.com/images/P/002542730X.0...</td>\n",
       "      <td>82</td>\n",
       "    </tr>\n",
       "  </tbody>\n",
       "</table>\n",
       "</div>"
      ],
      "text/plain": [
       "   user-id        ISBN  rating  \\\n",
       "0   277427  002542730X      10   \n",
       "1     3363  002542730X       0   \n",
       "2    11676  002542730X       6   \n",
       "3    12538  002542730X      10   \n",
       "4    13552  002542730X       0   \n",
       "\n",
       "                                               title             author  year  \\\n",
       "0  Politically Correct Bedtime Stories: Modern Ta...  James Finn Garner  1994   \n",
       "1  Politically Correct Bedtime Stories: Modern Ta...  James Finn Garner  1994   \n",
       "2  Politically Correct Bedtime Stories: Modern Ta...  James Finn Garner  1994   \n",
       "3  Politically Correct Bedtime Stories: Modern Ta...  James Finn Garner  1994   \n",
       "4  Politically Correct Bedtime Stories: Modern Ta...  James Finn Garner  1994   \n",
       "\n",
       "                   publisher  \\\n",
       "0  John Wiley &amp; Sons Inc   \n",
       "1  John Wiley &amp; Sons Inc   \n",
       "2  John Wiley &amp; Sons Inc   \n",
       "3  John Wiley &amp; Sons Inc   \n",
       "4  John Wiley &amp; Sons Inc   \n",
       "\n",
       "                                             img_url  num_of_rating  \n",
       "0  http://images.amazon.com/images/P/002542730X.0...             82  \n",
       "1  http://images.amazon.com/images/P/002542730X.0...             82  \n",
       "2  http://images.amazon.com/images/P/002542730X.0...             82  \n",
       "3  http://images.amazon.com/images/P/002542730X.0...             82  \n",
       "4  http://images.amazon.com/images/P/002542730X.0...             82  "
      ]
     },
     "execution_count": 71,
     "metadata": {},
     "output_type": "execute_result"
    }
   ],
   "source": [
    "final_rating.head()"
   ]
  },
  {
   "cell_type": "code",
   "execution_count": 72,
   "id": "61a20499-a237-40fe-9447-6734f5d5bfff",
   "metadata": {},
   "outputs": [
    {
     "data": {
      "text/plain": [
       "(487671, 9)"
      ]
     },
     "execution_count": 72,
     "metadata": {},
     "output_type": "execute_result"
    }
   ],
   "source": [
    "final_rating.shape"
   ]
  },
  {
   "cell_type": "code",
   "execution_count": 74,
   "id": "962145e9-b44a-458c-af3f-a94744a93602",
   "metadata": {},
   "outputs": [],
   "source": [
    "final_rating=final_rating[final_rating['num_of_rating']>=50]"
   ]
  },
  {
   "cell_type": "code",
   "execution_count": 75,
   "id": "27939c59-b628-404f-93f1-319b6db18e00",
   "metadata": {},
   "outputs": [
    {
     "data": {
      "text/html": [
       "<div>\n",
       "<style scoped>\n",
       "    .dataframe tbody tr th:only-of-type {\n",
       "        vertical-align: middle;\n",
       "    }\n",
       "\n",
       "    .dataframe tbody tr th {\n",
       "        vertical-align: top;\n",
       "    }\n",
       "\n",
       "    .dataframe thead th {\n",
       "        text-align: right;\n",
       "    }\n",
       "</style>\n",
       "<table border=\"1\" class=\"dataframe\">\n",
       "  <thead>\n",
       "    <tr style=\"text-align: right;\">\n",
       "      <th></th>\n",
       "      <th>user-id</th>\n",
       "      <th>ISBN</th>\n",
       "      <th>rating</th>\n",
       "      <th>title</th>\n",
       "      <th>author</th>\n",
       "      <th>year</th>\n",
       "      <th>publisher</th>\n",
       "      <th>img_url</th>\n",
       "      <th>num_of_rating</th>\n",
       "    </tr>\n",
       "  </thead>\n",
       "  <tbody>\n",
       "    <tr>\n",
       "      <th>0</th>\n",
       "      <td>277427</td>\n",
       "      <td>002542730X</td>\n",
       "      <td>10</td>\n",
       "      <td>Politically Correct Bedtime Stories: Modern Ta...</td>\n",
       "      <td>James Finn Garner</td>\n",
       "      <td>1994</td>\n",
       "      <td>John Wiley &amp;amp; Sons Inc</td>\n",
       "      <td>http://images.amazon.com/images/P/002542730X.0...</td>\n",
       "      <td>82</td>\n",
       "    </tr>\n",
       "    <tr>\n",
       "      <th>1</th>\n",
       "      <td>3363</td>\n",
       "      <td>002542730X</td>\n",
       "      <td>0</td>\n",
       "      <td>Politically Correct Bedtime Stories: Modern Ta...</td>\n",
       "      <td>James Finn Garner</td>\n",
       "      <td>1994</td>\n",
       "      <td>John Wiley &amp;amp; Sons Inc</td>\n",
       "      <td>http://images.amazon.com/images/P/002542730X.0...</td>\n",
       "      <td>82</td>\n",
       "    </tr>\n",
       "    <tr>\n",
       "      <th>2</th>\n",
       "      <td>11676</td>\n",
       "      <td>002542730X</td>\n",
       "      <td>6</td>\n",
       "      <td>Politically Correct Bedtime Stories: Modern Ta...</td>\n",
       "      <td>James Finn Garner</td>\n",
       "      <td>1994</td>\n",
       "      <td>John Wiley &amp;amp; Sons Inc</td>\n",
       "      <td>http://images.amazon.com/images/P/002542730X.0...</td>\n",
       "      <td>82</td>\n",
       "    </tr>\n",
       "    <tr>\n",
       "      <th>3</th>\n",
       "      <td>12538</td>\n",
       "      <td>002542730X</td>\n",
       "      <td>10</td>\n",
       "      <td>Politically Correct Bedtime Stories: Modern Ta...</td>\n",
       "      <td>James Finn Garner</td>\n",
       "      <td>1994</td>\n",
       "      <td>John Wiley &amp;amp; Sons Inc</td>\n",
       "      <td>http://images.amazon.com/images/P/002542730X.0...</td>\n",
       "      <td>82</td>\n",
       "    </tr>\n",
       "    <tr>\n",
       "      <th>4</th>\n",
       "      <td>13552</td>\n",
       "      <td>002542730X</td>\n",
       "      <td>0</td>\n",
       "      <td>Politically Correct Bedtime Stories: Modern Ta...</td>\n",
       "      <td>James Finn Garner</td>\n",
       "      <td>1994</td>\n",
       "      <td>John Wiley &amp;amp; Sons Inc</td>\n",
       "      <td>http://images.amazon.com/images/P/002542730X.0...</td>\n",
       "      <td>82</td>\n",
       "    </tr>\n",
       "  </tbody>\n",
       "</table>\n",
       "</div>"
      ],
      "text/plain": [
       "   user-id        ISBN  rating  \\\n",
       "0   277427  002542730X      10   \n",
       "1     3363  002542730X       0   \n",
       "2    11676  002542730X       6   \n",
       "3    12538  002542730X      10   \n",
       "4    13552  002542730X       0   \n",
       "\n",
       "                                               title             author  year  \\\n",
       "0  Politically Correct Bedtime Stories: Modern Ta...  James Finn Garner  1994   \n",
       "1  Politically Correct Bedtime Stories: Modern Ta...  James Finn Garner  1994   \n",
       "2  Politically Correct Bedtime Stories: Modern Ta...  James Finn Garner  1994   \n",
       "3  Politically Correct Bedtime Stories: Modern Ta...  James Finn Garner  1994   \n",
       "4  Politically Correct Bedtime Stories: Modern Ta...  James Finn Garner  1994   \n",
       "\n",
       "                   publisher  \\\n",
       "0  John Wiley &amp; Sons Inc   \n",
       "1  John Wiley &amp; Sons Inc   \n",
       "2  John Wiley &amp; Sons Inc   \n",
       "3  John Wiley &amp; Sons Inc   \n",
       "4  John Wiley &amp; Sons Inc   \n",
       "\n",
       "                                             img_url  num_of_rating  \n",
       "0  http://images.amazon.com/images/P/002542730X.0...             82  \n",
       "1  http://images.amazon.com/images/P/002542730X.0...             82  \n",
       "2  http://images.amazon.com/images/P/002542730X.0...             82  \n",
       "3  http://images.amazon.com/images/P/002542730X.0...             82  \n",
       "4  http://images.amazon.com/images/P/002542730X.0...             82  "
      ]
     },
     "execution_count": 75,
     "metadata": {},
     "output_type": "execute_result"
    }
   ],
   "source": [
    "final_rating.head()"
   ]
  },
  {
   "cell_type": "code",
   "execution_count": 77,
   "id": "0cede8bb-bffc-4d45-be5f-ef723e10b788",
   "metadata": {},
   "outputs": [
    {
     "data": {
      "text/plain": [
       "(61853, 9)"
      ]
     },
     "execution_count": 77,
     "metadata": {},
     "output_type": "execute_result"
    }
   ],
   "source": [
    "final_rating.shape"
   ]
  },
  {
   "cell_type": "code",
   "execution_count": 78,
   "id": "8da24039-0299-49a5-93dd-edbed6895878",
   "metadata": {},
   "outputs": [],
   "source": [
    "final_rating.drop_duplicates(['user-id','title'],inplace=True)"
   ]
  },
  {
   "cell_type": "code",
   "execution_count": 79,
   "id": "4ecf3e0f-d97e-4001-8316-a9ae05b240ce",
   "metadata": {},
   "outputs": [
    {
     "data": {
      "text/plain": [
       "(59850, 9)"
      ]
     },
     "execution_count": 79,
     "metadata": {},
     "output_type": "execute_result"
    }
   ],
   "source": [
    "final_rating.shape"
   ]
  },
  {
   "cell_type": "code",
   "execution_count": 80,
   "id": "f10ceedb-439a-40fe-ad36-eadf8fa9c11f",
   "metadata": {},
   "outputs": [],
   "source": [
    "book_pivot = final_rating.pivot_table(columns='user-id',index='title',values='rating')"
   ]
  },
  {
   "cell_type": "code",
   "execution_count": 81,
   "id": "589d2cda-6761-4fa8-b9db-ebd424380910",
   "metadata": {},
   "outputs": [
    {
     "data": {
      "text/html": [
       "<div>\n",
       "<style scoped>\n",
       "    .dataframe tbody tr th:only-of-type {\n",
       "        vertical-align: middle;\n",
       "    }\n",
       "\n",
       "    .dataframe tbody tr th {\n",
       "        vertical-align: top;\n",
       "    }\n",
       "\n",
       "    .dataframe thead th {\n",
       "        text-align: right;\n",
       "    }\n",
       "</style>\n",
       "<table border=\"1\" class=\"dataframe\">\n",
       "  <thead>\n",
       "    <tr style=\"text-align: right;\">\n",
       "      <th>user-id</th>\n",
       "      <th>254</th>\n",
       "      <th>2276</th>\n",
       "      <th>2766</th>\n",
       "      <th>2977</th>\n",
       "      <th>3363</th>\n",
       "      <th>3757</th>\n",
       "      <th>4017</th>\n",
       "      <th>4385</th>\n",
       "      <th>6242</th>\n",
       "      <th>6251</th>\n",
       "      <th>...</th>\n",
       "      <th>274004</th>\n",
       "      <th>274061</th>\n",
       "      <th>274301</th>\n",
       "      <th>274308</th>\n",
       "      <th>274808</th>\n",
       "      <th>275970</th>\n",
       "      <th>277427</th>\n",
       "      <th>277478</th>\n",
       "      <th>277639</th>\n",
       "      <th>278418</th>\n",
       "    </tr>\n",
       "    <tr>\n",
       "      <th>title</th>\n",
       "      <th></th>\n",
       "      <th></th>\n",
       "      <th></th>\n",
       "      <th></th>\n",
       "      <th></th>\n",
       "      <th></th>\n",
       "      <th></th>\n",
       "      <th></th>\n",
       "      <th></th>\n",
       "      <th></th>\n",
       "      <th></th>\n",
       "      <th></th>\n",
       "      <th></th>\n",
       "      <th></th>\n",
       "      <th></th>\n",
       "      <th></th>\n",
       "      <th></th>\n",
       "      <th></th>\n",
       "      <th></th>\n",
       "      <th></th>\n",
       "      <th></th>\n",
       "    </tr>\n",
       "  </thead>\n",
       "  <tbody>\n",
       "    <tr>\n",
       "      <th>1984</th>\n",
       "      <td>9.0</td>\n",
       "      <td>NaN</td>\n",
       "      <td>NaN</td>\n",
       "      <td>NaN</td>\n",
       "      <td>NaN</td>\n",
       "      <td>NaN</td>\n",
       "      <td>NaN</td>\n",
       "      <td>NaN</td>\n",
       "      <td>NaN</td>\n",
       "      <td>NaN</td>\n",
       "      <td>...</td>\n",
       "      <td>NaN</td>\n",
       "      <td>NaN</td>\n",
       "      <td>NaN</td>\n",
       "      <td>NaN</td>\n",
       "      <td>NaN</td>\n",
       "      <td>0.0</td>\n",
       "      <td>NaN</td>\n",
       "      <td>NaN</td>\n",
       "      <td>NaN</td>\n",
       "      <td>NaN</td>\n",
       "    </tr>\n",
       "    <tr>\n",
       "      <th>1st to Die: A Novel</th>\n",
       "      <td>NaN</td>\n",
       "      <td>NaN</td>\n",
       "      <td>NaN</td>\n",
       "      <td>NaN</td>\n",
       "      <td>NaN</td>\n",
       "      <td>NaN</td>\n",
       "      <td>NaN</td>\n",
       "      <td>NaN</td>\n",
       "      <td>NaN</td>\n",
       "      <td>NaN</td>\n",
       "      <td>...</td>\n",
       "      <td>NaN</td>\n",
       "      <td>NaN</td>\n",
       "      <td>NaN</td>\n",
       "      <td>NaN</td>\n",
       "      <td>NaN</td>\n",
       "      <td>NaN</td>\n",
       "      <td>NaN</td>\n",
       "      <td>NaN</td>\n",
       "      <td>NaN</td>\n",
       "      <td>NaN</td>\n",
       "    </tr>\n",
       "    <tr>\n",
       "      <th>2nd Chance</th>\n",
       "      <td>NaN</td>\n",
       "      <td>10.0</td>\n",
       "      <td>NaN</td>\n",
       "      <td>NaN</td>\n",
       "      <td>NaN</td>\n",
       "      <td>NaN</td>\n",
       "      <td>NaN</td>\n",
       "      <td>NaN</td>\n",
       "      <td>NaN</td>\n",
       "      <td>NaN</td>\n",
       "      <td>...</td>\n",
       "      <td>NaN</td>\n",
       "      <td>NaN</td>\n",
       "      <td>NaN</td>\n",
       "      <td>0.0</td>\n",
       "      <td>NaN</td>\n",
       "      <td>NaN</td>\n",
       "      <td>NaN</td>\n",
       "      <td>NaN</td>\n",
       "      <td>0.0</td>\n",
       "      <td>NaN</td>\n",
       "    </tr>\n",
       "    <tr>\n",
       "      <th>4 Blondes</th>\n",
       "      <td>NaN</td>\n",
       "      <td>NaN</td>\n",
       "      <td>NaN</td>\n",
       "      <td>NaN</td>\n",
       "      <td>NaN</td>\n",
       "      <td>NaN</td>\n",
       "      <td>NaN</td>\n",
       "      <td>NaN</td>\n",
       "      <td>NaN</td>\n",
       "      <td>0.0</td>\n",
       "      <td>...</td>\n",
       "      <td>NaN</td>\n",
       "      <td>NaN</td>\n",
       "      <td>NaN</td>\n",
       "      <td>NaN</td>\n",
       "      <td>NaN</td>\n",
       "      <td>NaN</td>\n",
       "      <td>NaN</td>\n",
       "      <td>NaN</td>\n",
       "      <td>NaN</td>\n",
       "      <td>NaN</td>\n",
       "    </tr>\n",
       "    <tr>\n",
       "      <th>84 Charing Cross Road</th>\n",
       "      <td>NaN</td>\n",
       "      <td>NaN</td>\n",
       "      <td>NaN</td>\n",
       "      <td>NaN</td>\n",
       "      <td>NaN</td>\n",
       "      <td>NaN</td>\n",
       "      <td>NaN</td>\n",
       "      <td>NaN</td>\n",
       "      <td>NaN</td>\n",
       "      <td>NaN</td>\n",
       "      <td>...</td>\n",
       "      <td>NaN</td>\n",
       "      <td>NaN</td>\n",
       "      <td>NaN</td>\n",
       "      <td>NaN</td>\n",
       "      <td>NaN</td>\n",
       "      <td>10.0</td>\n",
       "      <td>NaN</td>\n",
       "      <td>NaN</td>\n",
       "      <td>NaN</td>\n",
       "      <td>NaN</td>\n",
       "    </tr>\n",
       "  </tbody>\n",
       "</table>\n",
       "<p>5 rows × 888 columns</p>\n",
       "</div>"
      ],
      "text/plain": [
       "user-id                254     2276    2766    2977    3363    3757    4017    \\\n",
       "title                                                                           \n",
       "1984                      9.0     NaN     NaN     NaN     NaN     NaN     NaN   \n",
       "1st to Die: A Novel       NaN     NaN     NaN     NaN     NaN     NaN     NaN   \n",
       "2nd Chance                NaN    10.0     NaN     NaN     NaN     NaN     NaN   \n",
       "4 Blondes                 NaN     NaN     NaN     NaN     NaN     NaN     NaN   \n",
       "84 Charing Cross Road     NaN     NaN     NaN     NaN     NaN     NaN     NaN   \n",
       "\n",
       "user-id                4385    6242    6251    ...  274004  274061  274301  \\\n",
       "title                                          ...                           \n",
       "1984                      NaN     NaN     NaN  ...     NaN     NaN     NaN   \n",
       "1st to Die: A Novel       NaN     NaN     NaN  ...     NaN     NaN     NaN   \n",
       "2nd Chance                NaN     NaN     NaN  ...     NaN     NaN     NaN   \n",
       "4 Blondes                 NaN     NaN     0.0  ...     NaN     NaN     NaN   \n",
       "84 Charing Cross Road     NaN     NaN     NaN  ...     NaN     NaN     NaN   \n",
       "\n",
       "user-id                274308  274808  275970  277427  277478  277639  278418  \n",
       "title                                                                          \n",
       "1984                      NaN     NaN     0.0     NaN     NaN     NaN     NaN  \n",
       "1st to Die: A Novel       NaN     NaN     NaN     NaN     NaN     NaN     NaN  \n",
       "2nd Chance                0.0     NaN     NaN     NaN     NaN     0.0     NaN  \n",
       "4 Blondes                 NaN     NaN     NaN     NaN     NaN     NaN     NaN  \n",
       "84 Charing Cross Road     NaN     NaN    10.0     NaN     NaN     NaN     NaN  \n",
       "\n",
       "[5 rows x 888 columns]"
      ]
     },
     "execution_count": 81,
     "metadata": {},
     "output_type": "execute_result"
    }
   ],
   "source": [
    "book_pivot.head()"
   ]
  },
  {
   "cell_type": "code",
   "execution_count": 82,
   "id": "30d3f2a1-e27c-435e-b5be-a2321563cdfe",
   "metadata": {},
   "outputs": [
    {
     "data": {
      "text/plain": [
       "(742, 888)"
      ]
     },
     "execution_count": 82,
     "metadata": {},
     "output_type": "execute_result"
    }
   ],
   "source": [
    "book_pivot.shape"
   ]
  },
  {
   "cell_type": "code",
   "execution_count": 83,
   "id": "22208cff-6250-4d4f-ac2c-68eef6147243",
   "metadata": {},
   "outputs": [],
   "source": [
    "book_pivot.fillna(0,inplace=True)"
   ]
  },
  {
   "cell_type": "code",
   "execution_count": 84,
   "id": "f0162259-f55d-4b3b-bfa8-2d16bb64973f",
   "metadata": {},
   "outputs": [
    {
     "data": {
      "text/html": [
       "<div>\n",
       "<style scoped>\n",
       "    .dataframe tbody tr th:only-of-type {\n",
       "        vertical-align: middle;\n",
       "    }\n",
       "\n",
       "    .dataframe tbody tr th {\n",
       "        vertical-align: top;\n",
       "    }\n",
       "\n",
       "    .dataframe thead th {\n",
       "        text-align: right;\n",
       "    }\n",
       "</style>\n",
       "<table border=\"1\" class=\"dataframe\">\n",
       "  <thead>\n",
       "    <tr style=\"text-align: right;\">\n",
       "      <th>user-id</th>\n",
       "      <th>254</th>\n",
       "      <th>2276</th>\n",
       "      <th>2766</th>\n",
       "      <th>2977</th>\n",
       "      <th>3363</th>\n",
       "      <th>3757</th>\n",
       "      <th>4017</th>\n",
       "      <th>4385</th>\n",
       "      <th>6242</th>\n",
       "      <th>6251</th>\n",
       "      <th>...</th>\n",
       "      <th>274004</th>\n",
       "      <th>274061</th>\n",
       "      <th>274301</th>\n",
       "      <th>274308</th>\n",
       "      <th>274808</th>\n",
       "      <th>275970</th>\n",
       "      <th>277427</th>\n",
       "      <th>277478</th>\n",
       "      <th>277639</th>\n",
       "      <th>278418</th>\n",
       "    </tr>\n",
       "    <tr>\n",
       "      <th>title</th>\n",
       "      <th></th>\n",
       "      <th></th>\n",
       "      <th></th>\n",
       "      <th></th>\n",
       "      <th></th>\n",
       "      <th></th>\n",
       "      <th></th>\n",
       "      <th></th>\n",
       "      <th></th>\n",
       "      <th></th>\n",
       "      <th></th>\n",
       "      <th></th>\n",
       "      <th></th>\n",
       "      <th></th>\n",
       "      <th></th>\n",
       "      <th></th>\n",
       "      <th></th>\n",
       "      <th></th>\n",
       "      <th></th>\n",
       "      <th></th>\n",
       "      <th></th>\n",
       "    </tr>\n",
       "  </thead>\n",
       "  <tbody>\n",
       "    <tr>\n",
       "      <th>1984</th>\n",
       "      <td>9.0</td>\n",
       "      <td>0.0</td>\n",
       "      <td>0.0</td>\n",
       "      <td>0.0</td>\n",
       "      <td>0.0</td>\n",
       "      <td>0.0</td>\n",
       "      <td>0.0</td>\n",
       "      <td>0.0</td>\n",
       "      <td>0.0</td>\n",
       "      <td>0.0</td>\n",
       "      <td>...</td>\n",
       "      <td>0.0</td>\n",
       "      <td>0.0</td>\n",
       "      <td>0.0</td>\n",
       "      <td>0.0</td>\n",
       "      <td>0.0</td>\n",
       "      <td>0.0</td>\n",
       "      <td>0.0</td>\n",
       "      <td>0.0</td>\n",
       "      <td>0.0</td>\n",
       "      <td>0.0</td>\n",
       "    </tr>\n",
       "    <tr>\n",
       "      <th>1st to Die: A Novel</th>\n",
       "      <td>0.0</td>\n",
       "      <td>0.0</td>\n",
       "      <td>0.0</td>\n",
       "      <td>0.0</td>\n",
       "      <td>0.0</td>\n",
       "      <td>0.0</td>\n",
       "      <td>0.0</td>\n",
       "      <td>0.0</td>\n",
       "      <td>0.0</td>\n",
       "      <td>0.0</td>\n",
       "      <td>...</td>\n",
       "      <td>0.0</td>\n",
       "      <td>0.0</td>\n",
       "      <td>0.0</td>\n",
       "      <td>0.0</td>\n",
       "      <td>0.0</td>\n",
       "      <td>0.0</td>\n",
       "      <td>0.0</td>\n",
       "      <td>0.0</td>\n",
       "      <td>0.0</td>\n",
       "      <td>0.0</td>\n",
       "    </tr>\n",
       "    <tr>\n",
       "      <th>2nd Chance</th>\n",
       "      <td>0.0</td>\n",
       "      <td>10.0</td>\n",
       "      <td>0.0</td>\n",
       "      <td>0.0</td>\n",
       "      <td>0.0</td>\n",
       "      <td>0.0</td>\n",
       "      <td>0.0</td>\n",
       "      <td>0.0</td>\n",
       "      <td>0.0</td>\n",
       "      <td>0.0</td>\n",
       "      <td>...</td>\n",
       "      <td>0.0</td>\n",
       "      <td>0.0</td>\n",
       "      <td>0.0</td>\n",
       "      <td>0.0</td>\n",
       "      <td>0.0</td>\n",
       "      <td>0.0</td>\n",
       "      <td>0.0</td>\n",
       "      <td>0.0</td>\n",
       "      <td>0.0</td>\n",
       "      <td>0.0</td>\n",
       "    </tr>\n",
       "    <tr>\n",
       "      <th>4 Blondes</th>\n",
       "      <td>0.0</td>\n",
       "      <td>0.0</td>\n",
       "      <td>0.0</td>\n",
       "      <td>0.0</td>\n",
       "      <td>0.0</td>\n",
       "      <td>0.0</td>\n",
       "      <td>0.0</td>\n",
       "      <td>0.0</td>\n",
       "      <td>0.0</td>\n",
       "      <td>0.0</td>\n",
       "      <td>...</td>\n",
       "      <td>0.0</td>\n",
       "      <td>0.0</td>\n",
       "      <td>0.0</td>\n",
       "      <td>0.0</td>\n",
       "      <td>0.0</td>\n",
       "      <td>0.0</td>\n",
       "      <td>0.0</td>\n",
       "      <td>0.0</td>\n",
       "      <td>0.0</td>\n",
       "      <td>0.0</td>\n",
       "    </tr>\n",
       "    <tr>\n",
       "      <th>84 Charing Cross Road</th>\n",
       "      <td>0.0</td>\n",
       "      <td>0.0</td>\n",
       "      <td>0.0</td>\n",
       "      <td>0.0</td>\n",
       "      <td>0.0</td>\n",
       "      <td>0.0</td>\n",
       "      <td>0.0</td>\n",
       "      <td>0.0</td>\n",
       "      <td>0.0</td>\n",
       "      <td>0.0</td>\n",
       "      <td>...</td>\n",
       "      <td>0.0</td>\n",
       "      <td>0.0</td>\n",
       "      <td>0.0</td>\n",
       "      <td>0.0</td>\n",
       "      <td>0.0</td>\n",
       "      <td>10.0</td>\n",
       "      <td>0.0</td>\n",
       "      <td>0.0</td>\n",
       "      <td>0.0</td>\n",
       "      <td>0.0</td>\n",
       "    </tr>\n",
       "    <tr>\n",
       "      <th>...</th>\n",
       "      <td>...</td>\n",
       "      <td>...</td>\n",
       "      <td>...</td>\n",
       "      <td>...</td>\n",
       "      <td>...</td>\n",
       "      <td>...</td>\n",
       "      <td>...</td>\n",
       "      <td>...</td>\n",
       "      <td>...</td>\n",
       "      <td>...</td>\n",
       "      <td>...</td>\n",
       "      <td>...</td>\n",
       "      <td>...</td>\n",
       "      <td>...</td>\n",
       "      <td>...</td>\n",
       "      <td>...</td>\n",
       "      <td>...</td>\n",
       "      <td>...</td>\n",
       "      <td>...</td>\n",
       "      <td>...</td>\n",
       "      <td>...</td>\n",
       "    </tr>\n",
       "    <tr>\n",
       "      <th>Year of Wonders</th>\n",
       "      <td>0.0</td>\n",
       "      <td>0.0</td>\n",
       "      <td>0.0</td>\n",
       "      <td>7.0</td>\n",
       "      <td>0.0</td>\n",
       "      <td>0.0</td>\n",
       "      <td>0.0</td>\n",
       "      <td>0.0</td>\n",
       "      <td>7.0</td>\n",
       "      <td>0.0</td>\n",
       "      <td>...</td>\n",
       "      <td>0.0</td>\n",
       "      <td>0.0</td>\n",
       "      <td>0.0</td>\n",
       "      <td>0.0</td>\n",
       "      <td>0.0</td>\n",
       "      <td>0.0</td>\n",
       "      <td>0.0</td>\n",
       "      <td>0.0</td>\n",
       "      <td>0.0</td>\n",
       "      <td>0.0</td>\n",
       "    </tr>\n",
       "    <tr>\n",
       "      <th>You Belong To Me</th>\n",
       "      <td>0.0</td>\n",
       "      <td>0.0</td>\n",
       "      <td>0.0</td>\n",
       "      <td>0.0</td>\n",
       "      <td>0.0</td>\n",
       "      <td>0.0</td>\n",
       "      <td>0.0</td>\n",
       "      <td>0.0</td>\n",
       "      <td>0.0</td>\n",
       "      <td>0.0</td>\n",
       "      <td>...</td>\n",
       "      <td>0.0</td>\n",
       "      <td>0.0</td>\n",
       "      <td>0.0</td>\n",
       "      <td>0.0</td>\n",
       "      <td>0.0</td>\n",
       "      <td>0.0</td>\n",
       "      <td>0.0</td>\n",
       "      <td>0.0</td>\n",
       "      <td>0.0</td>\n",
       "      <td>0.0</td>\n",
       "    </tr>\n",
       "    <tr>\n",
       "      <th>Zen and the Art of Motorcycle Maintenance: An Inquiry into Values</th>\n",
       "      <td>0.0</td>\n",
       "      <td>0.0</td>\n",
       "      <td>0.0</td>\n",
       "      <td>0.0</td>\n",
       "      <td>0.0</td>\n",
       "      <td>0.0</td>\n",
       "      <td>0.0</td>\n",
       "      <td>0.0</td>\n",
       "      <td>0.0</td>\n",
       "      <td>0.0</td>\n",
       "      <td>...</td>\n",
       "      <td>0.0</td>\n",
       "      <td>0.0</td>\n",
       "      <td>0.0</td>\n",
       "      <td>0.0</td>\n",
       "      <td>0.0</td>\n",
       "      <td>0.0</td>\n",
       "      <td>0.0</td>\n",
       "      <td>0.0</td>\n",
       "      <td>0.0</td>\n",
       "      <td>0.0</td>\n",
       "    </tr>\n",
       "    <tr>\n",
       "      <th>Zoya</th>\n",
       "      <td>0.0</td>\n",
       "      <td>0.0</td>\n",
       "      <td>0.0</td>\n",
       "      <td>0.0</td>\n",
       "      <td>0.0</td>\n",
       "      <td>0.0</td>\n",
       "      <td>0.0</td>\n",
       "      <td>0.0</td>\n",
       "      <td>0.0</td>\n",
       "      <td>0.0</td>\n",
       "      <td>...</td>\n",
       "      <td>0.0</td>\n",
       "      <td>0.0</td>\n",
       "      <td>0.0</td>\n",
       "      <td>0.0</td>\n",
       "      <td>0.0</td>\n",
       "      <td>0.0</td>\n",
       "      <td>0.0</td>\n",
       "      <td>0.0</td>\n",
       "      <td>0.0</td>\n",
       "      <td>0.0</td>\n",
       "    </tr>\n",
       "    <tr>\n",
       "      <th>\\O\\\" Is for Outlaw\"</th>\n",
       "      <td>0.0</td>\n",
       "      <td>0.0</td>\n",
       "      <td>0.0</td>\n",
       "      <td>0.0</td>\n",
       "      <td>0.0</td>\n",
       "      <td>0.0</td>\n",
       "      <td>0.0</td>\n",
       "      <td>0.0</td>\n",
       "      <td>0.0</td>\n",
       "      <td>0.0</td>\n",
       "      <td>...</td>\n",
       "      <td>0.0</td>\n",
       "      <td>0.0</td>\n",
       "      <td>8.0</td>\n",
       "      <td>0.0</td>\n",
       "      <td>0.0</td>\n",
       "      <td>0.0</td>\n",
       "      <td>0.0</td>\n",
       "      <td>0.0</td>\n",
       "      <td>0.0</td>\n",
       "      <td>0.0</td>\n",
       "    </tr>\n",
       "  </tbody>\n",
       "</table>\n",
       "<p>742 rows × 888 columns</p>\n",
       "</div>"
      ],
      "text/plain": [
       "user-id                                             254     2276    2766    \\\n",
       "title                                                                        \n",
       "1984                                                   9.0     0.0     0.0   \n",
       "1st to Die: A Novel                                    0.0     0.0     0.0   \n",
       "2nd Chance                                             0.0    10.0     0.0   \n",
       "4 Blondes                                              0.0     0.0     0.0   \n",
       "84 Charing Cross Road                                  0.0     0.0     0.0   \n",
       "...                                                    ...     ...     ...   \n",
       "Year of Wonders                                        0.0     0.0     0.0   \n",
       "You Belong To Me                                       0.0     0.0     0.0   \n",
       "Zen and the Art of Motorcycle Maintenance: An I...     0.0     0.0     0.0   \n",
       "Zoya                                                   0.0     0.0     0.0   \n",
       "\\O\\\" Is for Outlaw\"                                    0.0     0.0     0.0   \n",
       "\n",
       "user-id                                             2977    3363    3757    \\\n",
       "title                                                                        \n",
       "1984                                                   0.0     0.0     0.0   \n",
       "1st to Die: A Novel                                    0.0     0.0     0.0   \n",
       "2nd Chance                                             0.0     0.0     0.0   \n",
       "4 Blondes                                              0.0     0.0     0.0   \n",
       "84 Charing Cross Road                                  0.0     0.0     0.0   \n",
       "...                                                    ...     ...     ...   \n",
       "Year of Wonders                                        7.0     0.0     0.0   \n",
       "You Belong To Me                                       0.0     0.0     0.0   \n",
       "Zen and the Art of Motorcycle Maintenance: An I...     0.0     0.0     0.0   \n",
       "Zoya                                                   0.0     0.0     0.0   \n",
       "\\O\\\" Is for Outlaw\"                                    0.0     0.0     0.0   \n",
       "\n",
       "user-id                                             4017    4385    6242    \\\n",
       "title                                                                        \n",
       "1984                                                   0.0     0.0     0.0   \n",
       "1st to Die: A Novel                                    0.0     0.0     0.0   \n",
       "2nd Chance                                             0.0     0.0     0.0   \n",
       "4 Blondes                                              0.0     0.0     0.0   \n",
       "84 Charing Cross Road                                  0.0     0.0     0.0   \n",
       "...                                                    ...     ...     ...   \n",
       "Year of Wonders                                        0.0     0.0     7.0   \n",
       "You Belong To Me                                       0.0     0.0     0.0   \n",
       "Zen and the Art of Motorcycle Maintenance: An I...     0.0     0.0     0.0   \n",
       "Zoya                                                   0.0     0.0     0.0   \n",
       "\\O\\\" Is for Outlaw\"                                    0.0     0.0     0.0   \n",
       "\n",
       "user-id                                             6251    ...  274004  \\\n",
       "title                                                       ...           \n",
       "1984                                                   0.0  ...     0.0   \n",
       "1st to Die: A Novel                                    0.0  ...     0.0   \n",
       "2nd Chance                                             0.0  ...     0.0   \n",
       "4 Blondes                                              0.0  ...     0.0   \n",
       "84 Charing Cross Road                                  0.0  ...     0.0   \n",
       "...                                                    ...  ...     ...   \n",
       "Year of Wonders                                        0.0  ...     0.0   \n",
       "You Belong To Me                                       0.0  ...     0.0   \n",
       "Zen and the Art of Motorcycle Maintenance: An I...     0.0  ...     0.0   \n",
       "Zoya                                                   0.0  ...     0.0   \n",
       "\\O\\\" Is for Outlaw\"                                    0.0  ...     0.0   \n",
       "\n",
       "user-id                                             274061  274301  274308  \\\n",
       "title                                                                        \n",
       "1984                                                   0.0     0.0     0.0   \n",
       "1st to Die: A Novel                                    0.0     0.0     0.0   \n",
       "2nd Chance                                             0.0     0.0     0.0   \n",
       "4 Blondes                                              0.0     0.0     0.0   \n",
       "84 Charing Cross Road                                  0.0     0.0     0.0   \n",
       "...                                                    ...     ...     ...   \n",
       "Year of Wonders                                        0.0     0.0     0.0   \n",
       "You Belong To Me                                       0.0     0.0     0.0   \n",
       "Zen and the Art of Motorcycle Maintenance: An I...     0.0     0.0     0.0   \n",
       "Zoya                                                   0.0     0.0     0.0   \n",
       "\\O\\\" Is for Outlaw\"                                    0.0     8.0     0.0   \n",
       "\n",
       "user-id                                             274808  275970  277427  \\\n",
       "title                                                                        \n",
       "1984                                                   0.0     0.0     0.0   \n",
       "1st to Die: A Novel                                    0.0     0.0     0.0   \n",
       "2nd Chance                                             0.0     0.0     0.0   \n",
       "4 Blondes                                              0.0     0.0     0.0   \n",
       "84 Charing Cross Road                                  0.0    10.0     0.0   \n",
       "...                                                    ...     ...     ...   \n",
       "Year of Wonders                                        0.0     0.0     0.0   \n",
       "You Belong To Me                                       0.0     0.0     0.0   \n",
       "Zen and the Art of Motorcycle Maintenance: An I...     0.0     0.0     0.0   \n",
       "Zoya                                                   0.0     0.0     0.0   \n",
       "\\O\\\" Is for Outlaw\"                                    0.0     0.0     0.0   \n",
       "\n",
       "user-id                                             277478  277639  278418  \n",
       "title                                                                       \n",
       "1984                                                   0.0     0.0     0.0  \n",
       "1st to Die: A Novel                                    0.0     0.0     0.0  \n",
       "2nd Chance                                             0.0     0.0     0.0  \n",
       "4 Blondes                                              0.0     0.0     0.0  \n",
       "84 Charing Cross Road                                  0.0     0.0     0.0  \n",
       "...                                                    ...     ...     ...  \n",
       "Year of Wonders                                        0.0     0.0     0.0  \n",
       "You Belong To Me                                       0.0     0.0     0.0  \n",
       "Zen and the Art of Motorcycle Maintenance: An I...     0.0     0.0     0.0  \n",
       "Zoya                                                   0.0     0.0     0.0  \n",
       "\\O\\\" Is for Outlaw\"                                    0.0     0.0     0.0  \n",
       "\n",
       "[742 rows x 888 columns]"
      ]
     },
     "execution_count": 84,
     "metadata": {},
     "output_type": "execute_result"
    }
   ],
   "source": [
    "book_pivot"
   ]
  },
  {
   "cell_type": "code",
   "execution_count": 88,
   "id": "7e2b6e8f-e869-4b4e-8f06-7a44f286a3e2",
   "metadata": {},
   "outputs": [],
   "source": [
    "from scipy.sparse import csr_matrix"
   ]
  },
  {
   "cell_type": "code",
   "execution_count": 89,
   "id": "a046d527-63a3-4595-9f3b-f5e9d4b8e90e",
   "metadata": {},
   "outputs": [],
   "source": [
    "book_sparse = csr_matrix(book_pivot)"
   ]
  },
  {
   "cell_type": "code",
   "execution_count": 91,
   "id": "5a3d316a-c8f0-4eac-9100-613f35038e14",
   "metadata": {},
   "outputs": [],
   "source": [
    "from sklearn.neighbors import NearestNeighbors"
   ]
  },
  {
   "cell_type": "code",
   "execution_count": 92,
   "id": "58025816-cb85-46af-bc66-c1686b19307a",
   "metadata": {},
   "outputs": [],
   "source": [
    "model = NearestNeighbors(algorithm='brute')"
   ]
  },
  {
   "cell_type": "code",
   "execution_count": 93,
   "id": "6b388f7c-4a6e-4f38-9f40-1d20be24a42c",
   "metadata": {},
   "outputs": [
    {
     "data": {
      "text/html": [
       "<style>#sk-container-id-1 {color: black;}#sk-container-id-1 pre{padding: 0;}#sk-container-id-1 div.sk-toggleable {background-color: white;}#sk-container-id-1 label.sk-toggleable__label {cursor: pointer;display: block;width: 100%;margin-bottom: 0;padding: 0.3em;box-sizing: border-box;text-align: center;}#sk-container-id-1 label.sk-toggleable__label-arrow:before {content: \"▸\";float: left;margin-right: 0.25em;color: #696969;}#sk-container-id-1 label.sk-toggleable__label-arrow:hover:before {color: black;}#sk-container-id-1 div.sk-estimator:hover label.sk-toggleable__label-arrow:before {color: black;}#sk-container-id-1 div.sk-toggleable__content {max-height: 0;max-width: 0;overflow: hidden;text-align: left;background-color: #f0f8ff;}#sk-container-id-1 div.sk-toggleable__content pre {margin: 0.2em;color: black;border-radius: 0.25em;background-color: #f0f8ff;}#sk-container-id-1 input.sk-toggleable__control:checked~div.sk-toggleable__content {max-height: 200px;max-width: 100%;overflow: auto;}#sk-container-id-1 input.sk-toggleable__control:checked~label.sk-toggleable__label-arrow:before {content: \"▾\";}#sk-container-id-1 div.sk-estimator input.sk-toggleable__control:checked~label.sk-toggleable__label {background-color: #d4ebff;}#sk-container-id-1 div.sk-label input.sk-toggleable__control:checked~label.sk-toggleable__label {background-color: #d4ebff;}#sk-container-id-1 input.sk-hidden--visually {border: 0;clip: rect(1px 1px 1px 1px);clip: rect(1px, 1px, 1px, 1px);height: 1px;margin: -1px;overflow: hidden;padding: 0;position: absolute;width: 1px;}#sk-container-id-1 div.sk-estimator {font-family: monospace;background-color: #f0f8ff;border: 1px dotted black;border-radius: 0.25em;box-sizing: border-box;margin-bottom: 0.5em;}#sk-container-id-1 div.sk-estimator:hover {background-color: #d4ebff;}#sk-container-id-1 div.sk-parallel-item::after {content: \"\";width: 100%;border-bottom: 1px solid gray;flex-grow: 1;}#sk-container-id-1 div.sk-label:hover label.sk-toggleable__label {background-color: #d4ebff;}#sk-container-id-1 div.sk-serial::before {content: \"\";position: absolute;border-left: 1px solid gray;box-sizing: border-box;top: 0;bottom: 0;left: 50%;z-index: 0;}#sk-container-id-1 div.sk-serial {display: flex;flex-direction: column;align-items: center;background-color: white;padding-right: 0.2em;padding-left: 0.2em;position: relative;}#sk-container-id-1 div.sk-item {position: relative;z-index: 1;}#sk-container-id-1 div.sk-parallel {display: flex;align-items: stretch;justify-content: center;background-color: white;position: relative;}#sk-container-id-1 div.sk-item::before, #sk-container-id-1 div.sk-parallel-item::before {content: \"\";position: absolute;border-left: 1px solid gray;box-sizing: border-box;top: 0;bottom: 0;left: 50%;z-index: -1;}#sk-container-id-1 div.sk-parallel-item {display: flex;flex-direction: column;z-index: 1;position: relative;background-color: white;}#sk-container-id-1 div.sk-parallel-item:first-child::after {align-self: flex-end;width: 50%;}#sk-container-id-1 div.sk-parallel-item:last-child::after {align-self: flex-start;width: 50%;}#sk-container-id-1 div.sk-parallel-item:only-child::after {width: 0;}#sk-container-id-1 div.sk-dashed-wrapped {border: 1px dashed gray;margin: 0 0.4em 0.5em 0.4em;box-sizing: border-box;padding-bottom: 0.4em;background-color: white;}#sk-container-id-1 div.sk-label label {font-family: monospace;font-weight: bold;display: inline-block;line-height: 1.2em;}#sk-container-id-1 div.sk-label-container {text-align: center;}#sk-container-id-1 div.sk-container {/* jupyter's `normalize.less` sets `[hidden] { display: none; }` but bootstrap.min.css set `[hidden] { display: none !important; }` so we also need the `!important` here to be able to override the default hidden behavior on the sphinx rendered scikit-learn.org. See: https://github.com/scikit-learn/scikit-learn/issues/21755 */display: inline-block !important;position: relative;}#sk-container-id-1 div.sk-text-repr-fallback {display: none;}</style><div id=\"sk-container-id-1\" class=\"sk-top-container\"><div class=\"sk-text-repr-fallback\"><pre>NearestNeighbors(algorithm=&#x27;brute&#x27;)</pre><b>In a Jupyter environment, please rerun this cell to show the HTML representation or trust the notebook. <br />On GitHub, the HTML representation is unable to render, please try loading this page with nbviewer.org.</b></div><div class=\"sk-container\" hidden><div class=\"sk-item\"><div class=\"sk-estimator sk-toggleable\"><input class=\"sk-toggleable__control sk-hidden--visually\" id=\"sk-estimator-id-1\" type=\"checkbox\" checked><label for=\"sk-estimator-id-1\" class=\"sk-toggleable__label sk-toggleable__label-arrow\">NearestNeighbors</label><div class=\"sk-toggleable__content\"><pre>NearestNeighbors(algorithm=&#x27;brute&#x27;)</pre></div></div></div></div></div>"
      ],
      "text/plain": [
       "NearestNeighbors(algorithm='brute')"
      ]
     },
     "execution_count": 93,
     "metadata": {},
     "output_type": "execute_result"
    }
   ],
   "source": [
    "model.fit(book_sparse)"
   ]
  },
  {
   "cell_type": "code",
   "execution_count": 95,
   "id": "40319baa-5f57-40c5-b94f-e1b83c337efa",
   "metadata": {},
   "outputs": [],
   "source": [
    "distance,suggestion = model.kneighbors(book_pivot.iloc[237,:].values.reshape(1,-1), n_neighbors=6)"
   ]
  },
  {
   "cell_type": "code",
   "execution_count": 96,
   "id": "8d865a9f-117b-4e61-9eeb-f6e3cdc737a9",
   "metadata": {},
   "outputs": [
    {
     "data": {
      "text/plain": [
       "array([[ 0.        , 68.78953409, 69.5413546 , 72.64296249, 76.83098333,\n",
       "        77.28518616]])"
      ]
     },
     "execution_count": 96,
     "metadata": {},
     "output_type": "execute_result"
    }
   ],
   "source": [
    "distance"
   ]
  },
  {
   "cell_type": "code",
   "execution_count": 97,
   "id": "1339b642-9edb-4a06-b501-2638daf9b393",
   "metadata": {},
   "outputs": [
    {
     "data": {
      "text/plain": [
       "array([[237, 240, 238, 241, 184, 536]], dtype=int64)"
      ]
     },
     "execution_count": 97,
     "metadata": {},
     "output_type": "execute_result"
    }
   ],
   "source": [
    "suggestion"
   ]
  },
  {
   "cell_type": "code",
   "execution_count": 98,
   "id": "ff9f1d8a-2e2a-4808-a2f8-2114e183f301",
   "metadata": {},
   "outputs": [
    {
     "name": "stdout",
     "output_type": "stream",
     "text": [
      "Index(['Harry Potter and the Chamber of Secrets (Book 2)',\n",
      "       'Harry Potter and the Prisoner of Azkaban (Book 3)',\n",
      "       'Harry Potter and the Goblet of Fire (Book 4)',\n",
      "       'Harry Potter and the Sorcerer's Stone (Book 1)', 'Exclusive',\n",
      "       'The Cradle Will Fall'],\n",
      "      dtype='object', name='title')\n"
     ]
    }
   ],
   "source": [
    "for i in range(len(suggestion)):\n",
    "    print(book_pivot.index[suggestion[i]])"
   ]
  },
  {
   "cell_type": "code",
   "execution_count": 100,
   "id": "37191a03-e34a-4465-a240-5c97312ec7b3",
   "metadata": {},
   "outputs": [],
   "source": [
    "books_name=book_pivot.index"
   ]
  },
  {
   "cell_type": "code",
   "execution_count": 101,
   "id": "c0fd1872-4f2c-43f7-85f1-5f13d30689e0",
   "metadata": {},
   "outputs": [],
   "source": [
    "import pickle\n",
    "pickle.dump(model,open(r\"C:\\Users\\Priyanshul\\OneDrive\\Desktop\\Recommender_system\\model.pkl\",'wb'))\n",
    "pickle.dump(books_name,open(r\"C:\\Users\\Priyanshul\\OneDrive\\Desktop\\Recommender_system\\books_name.pkl\",'wb'))\n",
    "pickle.dump(final_rating,open(r\"C:\\Users\\Priyanshul\\OneDrive\\Desktop\\Recommender_system\\final_rating.pkl\",'wb'))\n",
    "pickle.dump(book_pivot,open(r\"C:\\Users\\Priyanshul\\OneDrive\\Desktop\\Recommender_system\\book_pivot.pkl\",'wb'))"
   ]
  },
  {
   "cell_type": "code",
   "execution_count": 104,
   "id": "365b897d-809e-4879-b04b-9c4da64b60be",
   "metadata": {},
   "outputs": [],
   "source": [
    "def recommend_book(book_name):\n",
    "    book_id = np.where(book_pivot.index == book_name)[0][0]\n",
    "    distance,suggestion = model.kneighbors(book_pivot.iloc[book_id,:].values.reshape(1,-1), n_neighbors=6)\n",
    "\n",
    "    for i in range(len(suggestion)):\n",
    "        books = book_pivot.index[suggestion[i]]\n",
    "        for j in books:\n",
    "            print(j)"
   ]
  },
  {
   "cell_type": "code",
   "execution_count": 105,
   "id": "7198e7bc-e2c3-419f-a381-c490cf7de2bc",
   "metadata": {},
   "outputs": [
    {
     "name": "stdout",
     "output_type": "stream",
     "text": [
      "1984\n",
      "No Safe Place\n",
      "A Civil Action\n",
      "Foucault's Pendulum\n",
      "Long After Midnight\n",
      "Abduction\n"
     ]
    }
   ],
   "source": [
    "recommend_book(\"1984\")"
   ]
  },
  {
   "cell_type": "code",
   "execution_count": 108,
   "id": "ab8ccf20-4c42-4df8-b7a3-451cec3c460f",
   "metadata": {},
   "outputs": [
    {
     "ename": "AttributeError",
     "evalue": "'str' object has no attribute 'drop_duplicates'",
     "output_type": "error",
     "traceback": [
      "\u001b[1;31m---------------------------------------------------------------------------\u001b[0m",
      "\u001b[1;31mAttributeError\u001b[0m                            Traceback (most recent call last)",
      "Cell \u001b[1;32mIn[108], line 2\u001b[0m\n\u001b[0;32m      1\u001b[0m books \u001b[38;5;241m=\u001b[39m book_pivot\u001b[38;5;241m.\u001b[39mindex[\u001b[38;5;241m3\u001b[39m]\n\u001b[1;32m----> 2\u001b[0m a1 \u001b[38;5;241m=\u001b[39m \u001b[38;5;28mlist\u001b[39m(\u001b[43mbooks\u001b[49m\u001b[38;5;241;43m.\u001b[39;49m\u001b[43mdrop_duplicates\u001b[49m(\u001b[38;5;124m'\u001b[39m\u001b[38;5;124mBook-Title\u001b[39m\u001b[38;5;124m'\u001b[39m)[\u001b[38;5;124m'\u001b[39m\u001b[38;5;124mImage-URL-M\u001b[39m\u001b[38;5;124m'\u001b[39m]\u001b[38;5;241m.\u001b[39mvalues)\n",
      "\u001b[1;31mAttributeError\u001b[0m: 'str' object has no attribute 'drop_duplicates'"
     ]
    }
   ],
   "source": [
    "books = book_pivot.index[3]\n",
    "a1 = list(books.drop_duplicates('Book-Title')['Image-URL-M'].values)"
   ]
  },
  {
   "cell_type": "code",
   "execution_count": null,
   "id": "e3c020ad-dca5-496d-aae8-0c90900a20fa",
   "metadata": {},
   "outputs": [],
   "source": []
  }
 ],
 "metadata": {
  "kernelspec": {
   "display_name": "Python 3 (ipykernel)",
   "language": "python",
   "name": "python3"
  },
  "language_info": {
   "codemirror_mode": {
    "name": "ipython",
    "version": 3
   },
   "file_extension": ".py",
   "mimetype": "text/x-python",
   "name": "python",
   "nbconvert_exporter": "python",
   "pygments_lexer": "ipython3",
   "version": "3.8.0"
  }
 },
 "nbformat": 4,
 "nbformat_minor": 5
}
